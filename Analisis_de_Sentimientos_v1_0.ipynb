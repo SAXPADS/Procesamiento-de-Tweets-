{
  "nbformat": 4,
  "nbformat_minor": 0,
  "metadata": {
    "colab": {
      "name": "Analisis de Sentimientos v1.0.ipynb",
      "provenance": [],
      "collapsed_sections": []
    },
    "kernelspec": {
      "name": "python3",
      "display_name": "Python 3"
    },
    "language_info": {
      "name": "python"
    }
  },
  "cells": [
    {
      "cell_type": "markdown",
      "metadata": {
        "id": "rcDqk4Q6hV3X"
      },
      "source": [
        "#Analisis de Sentimientos\n",
        "\n",
        "\n",
        "*   sentiment-analysis-spanish\n",
        "*   keras tensorflow\n",
        "\n"
      ]
    },
    {
      "cell_type": "code",
      "metadata": {
        "colab": {
          "base_uri": "https://localhost:8080/"
        },
        "id": "uxdDZHpIhWUM",
        "outputId": "276f37c5-89e3-4233-aad0-b5ebee5bc58a"
      },
      "source": [
        "pip install sentiment-analysis-spanish"
      ],
      "execution_count": null,
      "outputs": [
        {
          "output_type": "stream",
          "text": [
            "Requirement already satisfied: sentiment-analysis-spanish in /usr/local/lib/python3.7/dist-packages (0.0.25)\n"
          ],
          "name": "stdout"
        }
      ]
    },
    {
      "cell_type": "code",
      "metadata": {
        "colab": {
          "base_uri": "https://localhost:8080/"
        },
        "id": "phjTdzYshpfc",
        "outputId": "14184356-af72-4b45-88c7-ab8d938bf02a"
      },
      "source": [
        "pip install keras tensorflow"
      ],
      "execution_count": null,
      "outputs": [
        {
          "output_type": "stream",
          "text": [
            "Requirement already satisfied: keras in /usr/local/lib/python3.7/dist-packages (2.6.0)\n",
            "Requirement already satisfied: tensorflow in /usr/local/lib/python3.7/dist-packages (2.6.0)\n",
            "Requirement already satisfied: grpcio<2.0,>=1.37.0 in /usr/local/lib/python3.7/dist-packages (from tensorflow) (1.39.0)\n",
            "Requirement already satisfied: google-pasta~=0.2 in /usr/local/lib/python3.7/dist-packages (from tensorflow) (0.2.0)\n",
            "Requirement already satisfied: termcolor~=1.1.0 in /usr/local/lib/python3.7/dist-packages (from tensorflow) (1.1.0)\n",
            "Requirement already satisfied: wrapt~=1.12.1 in /usr/local/lib/python3.7/dist-packages (from tensorflow) (1.12.1)\n",
            "Requirement already satisfied: typing-extensions~=3.7.4 in /usr/local/lib/python3.7/dist-packages (from tensorflow) (3.7.4.3)\n",
            "Requirement already satisfied: astunparse~=1.6.3 in /usr/local/lib/python3.7/dist-packages (from tensorflow) (1.6.3)\n",
            "Requirement already satisfied: protobuf>=3.9.2 in /usr/local/lib/python3.7/dist-packages (from tensorflow) (3.17.3)\n",
            "Requirement already satisfied: wheel~=0.35 in /usr/local/lib/python3.7/dist-packages (from tensorflow) (0.37.0)\n",
            "Requirement already satisfied: tensorflow-estimator~=2.6 in /usr/local/lib/python3.7/dist-packages (from tensorflow) (2.6.0)\n",
            "Requirement already satisfied: keras-preprocessing~=1.1.2 in /usr/local/lib/python3.7/dist-packages (from tensorflow) (1.1.2)\n",
            "Requirement already satisfied: numpy~=1.19.2 in /usr/local/lib/python3.7/dist-packages (from tensorflow) (1.19.5)\n",
            "Requirement already satisfied: flatbuffers~=1.12.0 in /usr/local/lib/python3.7/dist-packages (from tensorflow) (1.12)\n",
            "Requirement already satisfied: absl-py~=0.10 in /usr/local/lib/python3.7/dist-packages (from tensorflow) (0.12.0)\n",
            "Requirement already satisfied: tensorboard~=2.6 in /usr/local/lib/python3.7/dist-packages (from tensorflow) (2.6.0)\n",
            "Requirement already satisfied: h5py~=3.1.0 in /usr/local/lib/python3.7/dist-packages (from tensorflow) (3.1.0)\n",
            "Requirement already satisfied: gast==0.4.0 in /usr/local/lib/python3.7/dist-packages (from tensorflow) (0.4.0)\n",
            "Requirement already satisfied: clang~=5.0 in /usr/local/lib/python3.7/dist-packages (from tensorflow) (5.0)\n",
            "Requirement already satisfied: six~=1.15.0 in /usr/local/lib/python3.7/dist-packages (from tensorflow) (1.15.0)\n",
            "Requirement already satisfied: opt-einsum~=3.3.0 in /usr/local/lib/python3.7/dist-packages (from tensorflow) (3.3.0)\n",
            "Requirement already satisfied: cached-property in /usr/local/lib/python3.7/dist-packages (from h5py~=3.1.0->tensorflow) (1.5.2)\n",
            "Requirement already satisfied: requests<3,>=2.21.0 in /usr/local/lib/python3.7/dist-packages (from tensorboard~=2.6->tensorflow) (2.23.0)\n",
            "Requirement already satisfied: markdown>=2.6.8 in /usr/local/lib/python3.7/dist-packages (from tensorboard~=2.6->tensorflow) (3.3.4)\n",
            "Requirement already satisfied: tensorboard-plugin-wit>=1.6.0 in /usr/local/lib/python3.7/dist-packages (from tensorboard~=2.6->tensorflow) (1.8.0)\n",
            "Requirement already satisfied: tensorboard-data-server<0.7.0,>=0.6.0 in /usr/local/lib/python3.7/dist-packages (from tensorboard~=2.6->tensorflow) (0.6.1)\n",
            "Requirement already satisfied: google-auth-oauthlib<0.5,>=0.4.1 in /usr/local/lib/python3.7/dist-packages (from tensorboard~=2.6->tensorflow) (0.4.5)\n",
            "Requirement already satisfied: werkzeug>=0.11.15 in /usr/local/lib/python3.7/dist-packages (from tensorboard~=2.6->tensorflow) (1.0.1)\n",
            "Requirement already satisfied: setuptools>=41.0.0 in /usr/local/lib/python3.7/dist-packages (from tensorboard~=2.6->tensorflow) (57.4.0)\n",
            "Requirement already satisfied: google-auth<2,>=1.6.3 in /usr/local/lib/python3.7/dist-packages (from tensorboard~=2.6->tensorflow) (1.34.0)\n",
            "Requirement already satisfied: rsa<5,>=3.1.4 in /usr/local/lib/python3.7/dist-packages (from google-auth<2,>=1.6.3->tensorboard~=2.6->tensorflow) (4.7.2)\n",
            "Requirement already satisfied: pyasn1-modules>=0.2.1 in /usr/local/lib/python3.7/dist-packages (from google-auth<2,>=1.6.3->tensorboard~=2.6->tensorflow) (0.2.8)\n",
            "Requirement already satisfied: cachetools<5.0,>=2.0.0 in /usr/local/lib/python3.7/dist-packages (from google-auth<2,>=1.6.3->tensorboard~=2.6->tensorflow) (4.2.2)\n",
            "Requirement already satisfied: requests-oauthlib>=0.7.0 in /usr/local/lib/python3.7/dist-packages (from google-auth-oauthlib<0.5,>=0.4.1->tensorboard~=2.6->tensorflow) (1.3.0)\n",
            "Requirement already satisfied: importlib-metadata in /usr/local/lib/python3.7/dist-packages (from markdown>=2.6.8->tensorboard~=2.6->tensorflow) (4.6.4)\n",
            "Requirement already satisfied: pyasn1<0.5.0,>=0.4.6 in /usr/local/lib/python3.7/dist-packages (from pyasn1-modules>=0.2.1->google-auth<2,>=1.6.3->tensorboard~=2.6->tensorflow) (0.4.8)\n",
            "Requirement already satisfied: urllib3!=1.25.0,!=1.25.1,<1.26,>=1.21.1 in /usr/local/lib/python3.7/dist-packages (from requests<3,>=2.21.0->tensorboard~=2.6->tensorflow) (1.24.3)\n",
            "Requirement already satisfied: idna<3,>=2.5 in /usr/local/lib/python3.7/dist-packages (from requests<3,>=2.21.0->tensorboard~=2.6->tensorflow) (2.10)\n",
            "Requirement already satisfied: chardet<4,>=3.0.2 in /usr/local/lib/python3.7/dist-packages (from requests<3,>=2.21.0->tensorboard~=2.6->tensorflow) (3.0.4)\n",
            "Requirement already satisfied: certifi>=2017.4.17 in /usr/local/lib/python3.7/dist-packages (from requests<3,>=2.21.0->tensorboard~=2.6->tensorflow) (2021.5.30)\n",
            "Requirement already satisfied: oauthlib>=3.0.0 in /usr/local/lib/python3.7/dist-packages (from requests-oauthlib>=0.7.0->google-auth-oauthlib<0.5,>=0.4.1->tensorboard~=2.6->tensorflow) (3.1.1)\n",
            "Requirement already satisfied: zipp>=0.5 in /usr/local/lib/python3.7/dist-packages (from importlib-metadata->markdown>=2.6.8->tensorboard~=2.6->tensorflow) (3.5.0)\n"
          ],
          "name": "stdout"
        }
      ]
    },
    {
      "cell_type": "code",
      "metadata": {
        "id": "bDYkirChkmhP"
      },
      "source": [
        "from sentiment_analysis_spanish import sentiment_analysis"
      ],
      "execution_count": null,
      "outputs": []
    },
    {
      "cell_type": "code",
      "metadata": {
        "id": "oOyvURBmIN5M"
      },
      "source": [
        "def resultado(text):\n",
        "    sentiment = sentiment_analysis.SentimentAnalysisSpanish()\n",
        "    if sentiment.sentiment(text)>0.5:\n",
        "        return 'Positive'\n",
        "    else:\n",
        "        return 'Negative'\n",
        "def remove_emojis(data):\n",
        "    emoj = re.compile(\"[\"\n",
        "        u\"\\U0001F600-\\U0001F64F\"  # emoticons\n",
        "        u\"\\U0001F300-\\U0001F5FF\"  # symbols & pictographs\n",
        "        u\"\\U0001F680-\\U0001F6FF\"  # transport & map symbols\n",
        "        u\"\\U0001F1E0-\\U0001F1FF\"  # flags (iOS)\n",
        "        u\"\\U00002500-\\U00002BEF\"  # chinese char\n",
        "        u\"\\U00002702-\\U000027B0\"\n",
        "        u\"\\U00002702-\\U000027B0\"\n",
        "        u\"\\U000024C2-\\U0001F251\"\n",
        "        u\"\\U0001f926-\\U0001f937\"\n",
        "        u\"\\U00010000-\\U0010ffff\"\n",
        "        u\"\\u2640-\\u2642\" \n",
        "        u\"\\u2600-\\u2B55\"\n",
        "        u\"\\u200d\"\n",
        "        u\"\\u23cf\"\n",
        "        u\"\\u23e9\"\n",
        "        u\"\\u231a\"\n",
        "        u\"\\ufe0f\"  # dingbats\n",
        "        u\"\\u3030\"\n",
        "                      \"]+\", re.UNICODE)\n",
        "    return re.sub(emoj, '', data)\n",
        "def hacer_corpus_mod(tweets):\n",
        "    corpus = []\n",
        "    for i in range(0, len(tweets)):\n",
        "        #eliminamos los links y hasgtags\n",
        "        tweets['tweet'][i] = \" \".join([word for word in tweets['tweet'][i].split()\n",
        "                                        if 'http' not in word and '@' not in word and '#' not in word])\n",
        "        #definimos caracteres que pueden leer\n",
        "        #title = re.sub('[^a-zA-ZáéíóúñÁÉÍÓÚ]', ' ', tweets['tweet'][i])\n",
        "        title = re.sub(\"@\\S+\", \" \", tweets['tweet'][i])\n",
        "        title = re.sub(\"#\\S+\", \" \", title)\n",
        "        title = title.replace('|', '')\n",
        "        title = remove_emojis(title)\n",
        "        #transformamos las mayusculas en minusculas\n",
        "        #title = title.lower()\n",
        "        #generamos los arreglos respectivos para los tweets con los carcteres aceptados\n",
        "        title = title.split()\n",
        "        #print(title)\n",
        "        #eliminamos aquellas palabras que esten en el stopwords del español\n",
        "        #title = [word for word in title if (not word in FinalStopWords and word != \"rt\")]\n",
        "        #volvemos a crear el corpus con las palabras aceptadas\n",
        "        title = ' '.join(title) + \" \"\n",
        "        corpus.append(title)\n",
        "    return corpus"
      ],
      "execution_count": null,
      "outputs": []
    },
    {
      "cell_type": "code",
      "metadata": {
        "colab": {
          "base_uri": "https://localhost:8080/"
        },
        "id": "bfykLu5fhlu1",
        "outputId": "c540272e-9b93-4ed3-969a-b0d46f7f07de"
      },
      "source": [
        "\n",
        "Resultado=sentiment.sentiment(\"me gusta la tombola es genial\")\n",
        "print(Resultado)"
      ],
      "execution_count": null,
      "outputs": [
        {
          "output_type": "stream",
          "text": [
            "/usr/local/lib/python3.7/dist-packages/sklearn/base.py:318: UserWarning: Trying to unpickle estimator CountVectorizer from version 0.23.2 when using version 0.22.2.post1. This might lead to breaking code or invalid results. Use at your own risk.\n",
            "  UserWarning)\n",
            "/usr/local/lib/python3.7/dist-packages/sklearn/base.py:318: UserWarning: Trying to unpickle estimator MultinomialNB from version 0.23.2 when using version 0.22.2.post1. This might lead to breaking code or invalid results. Use at your own risk.\n",
            "  UserWarning)\n"
          ],
          "name": "stderr"
        },
        {
          "output_type": "stream",
          "text": [
            "0.9304396176531412\n"
          ],
          "name": "stdout"
        }
      ]
    },
    {
      "cell_type": "code",
      "metadata": {
        "colab": {
          "base_uri": "https://localhost:8080/"
        },
        "id": "st_XoDLpkruV",
        "outputId": "faf56ab1-f131-489a-e039-373814df57c7"
      },
      "source": [
        "sentiment = sentiment_analysis.SentimentAnalysisSpanish()\n",
        "Resultado=sentiment.sentiment(\"me parece terrible esto que me estás diciendo\")\n",
        "print(Resultado)\n",
        "print(resultado(\"me parece terrible esto que me estás diciendo\"))"
      ],
      "execution_count": null,
      "outputs": [
        {
          "output_type": "stream",
          "text": [
            "/usr/local/lib/python3.7/dist-packages/sklearn/base.py:318: UserWarning: Trying to unpickle estimator CountVectorizer from version 0.23.2 when using version 0.22.2.post1. This might lead to breaking code or invalid results. Use at your own risk.\n",
            "  UserWarning)\n",
            "/usr/local/lib/python3.7/dist-packages/sklearn/base.py:318: UserWarning: Trying to unpickle estimator MultinomialNB from version 0.23.2 when using version 0.22.2.post1. This might lead to breaking code or invalid results. Use at your own risk.\n",
            "  UserWarning)\n"
          ],
          "name": "stderr"
        },
        {
          "output_type": "stream",
          "text": [
            "2.1830853580533075e-06\n",
            "Negative\n"
          ],
          "name": "stdout"
        }
      ]
    },
    {
      "cell_type": "code",
      "metadata": {
        "colab": {
          "base_uri": "https://localhost:8080/"
        },
        "id": "TpYSJGVWI04j",
        "outputId": "f95400b4-3f60-4ec1-d569-c67428ed7400"
      },
      "source": [
        "Data=hacer_corpus_mod(pd.read_csv('timpanoperu.csv'))\n",
        "print(Data)"
      ],
      "execution_count": null,
      "outputs": [
        {
          "output_type": "stream",
          "text": [
            "['\"Jorge del Castillo, ladrón, rata, raaaaata!!!!!!\" Tremendo recibimiento del pueblo digno de Arequipa. ', '¿A quién representa A nadie, excepto, a su padre, al ex congresista fujimorista, magnate de la educación, dueño de IDAT y de la Univ. UTP. De currículum lamentable, cero experiencia política, solo mucho dinero. ', 'No olvides q es hija del ex congresista Fujimorista Amuruz, maganate de la educación, dueño de IDAT y de la universidad UTP. La cumpleañera no representa a nadie, tan sólo a su bolsillo. ', 'La congresista Roselli Amuruz, solo representa los intereses de su padre, ex fujimorista y ahora magnate de la educación, dueño de IDAT y la Univ. UTP. O sea intereses personales. Por eso su CV es lamentable, cero experiencia. ', 'Cuanta razón tiene Héctor Béjar cuando habla de la derecha, por ejemplo respecto a los ataques: \"viniendo de quienes viene y teniendo en cuenta el tipo de ataques que me han lanzado, supongo que eso contribuye a mi prestigio\" ', 'En un país como el nuestro, sería tremendamente irresponsable acelerar el retorno, sin haber alcanzado un mínimo de vacunación de la población. Con un sistema de salud lamentable. Por Covid19 ', 'Alex Kouri, el mayor delincuente y corrupto político del Callao, regresa apadrinado por Willax y por el ex-marino Luis Giampietri, lamebotas de capos como Vladimiro Montesinos y de Alan Garcia. Se requiere una respuesta decidida contra esta mafia perversa. ', 'Totalmente irresponsable, en un país como el nuestro, utilizar a los niños, para sus criticas políticas, sabiendo que el Sistema de Salud es deficiente. por Covid19. ', 'Jóvenes, si van a seguir creyendo a este tipo de sujetos que se esconden detrás de la Marina, no duden que vivirán en unos años en un NarcoEstado. Son estos los seguidores de Montesinos, alguien que utilizó las FFAA y la humilló. ', 'Que se puede decir del periodismo que se suma al cargamonton de ex militares que se arrodillaron al mayores narcos de los 90, Fujimori y Montesinos? ¿Cómo deberíamos llamar a estos \"periodistas\"?, solo mermeleros o NarcoMermeleros? de dónde tanto dinero? ', 'Quieren regresar nuevamente a robar al gobierno, saquear el Perú, pero además quieren convertirnos en un narco estado, en un estado fallido. Mucho joven ignorante y confundido se deja engañar por militares q se arrodillaron a Montesinos o a abogadas de Narcos. ', '¿ Qué hacen tanto ex militares, de alto rango, de la marina y del ejercito, en el Congreso?, ¿Por qué justamente son peones de partidos fachos, corruptos como el de Lopez Aliaga, Fuerza Popular, Acuña o Podemos? ', 'No es posible que el Perú este a punto de ser capturado nuevamente por corruptos que amparados en grados militares pretenden levantarse como defensores de la democracia, cuando en realidad son servidores de la CORRPCION Y DEL NARCOTRAFICO. Cuidado Perú!!! ', 'No deja de ser sospechoso que la prensa promueva a estos tipos, que fueron sirvientes el mayor corrupto y narco de los 90s, Vladimiro Montesinos. Quieren volver al poder, quieren terminar su labor criminal. Desafuero a estos miserables del Congreso!!! ', 'No contentos con destrozar el país en los 90s con el delincuente Montesinos, estos pseudo militares, nuevamente atacan a la Patria, al Perú. ¿Qué buscan realmente? ¿Quieren cumplir su sueño en convertirnos en un NarcoEstado? No a los ex militares servidores del crimen organizado ', 'Mucha gente de twitter prefiere vivir en la ignorancia. Aquí tienen un ejemplo. ', 'La historia no se puede reescribir, fujitrolles. Podrán vandalizar el arte popular, pero no la memoria del pueblo. ']\n"
          ],
          "name": "stdout"
        },
        {
          "output_type": "stream",
          "text": [
            "/usr/local/lib/python3.7/dist-packages/ipykernel_launcher.py:33: SettingWithCopyWarning: \n",
            "A value is trying to be set on a copy of a slice from a DataFrame\n",
            "\n",
            "See the caveats in the documentation: https://pandas.pydata.org/pandas-docs/stable/user_guide/indexing.html#returning-a-view-versus-a-copy\n"
          ],
          "name": "stderr"
        }
      ]
    },
    {
      "cell_type": "code",
      "metadata": {
        "colab": {
          "base_uri": "https://localhost:8080/",
          "height": 583
        },
        "id": "tjSZqcCQJE9r",
        "outputId": "01ae1364-906f-4c30-ccb8-57b16d894efd"
      },
      "source": [
        "df = pd.DataFrame(Data, columns=['Tweets'])\n",
        "df"
      ],
      "execution_count": null,
      "outputs": [
        {
          "output_type": "execute_result",
          "data": {
            "text/html": [
              "<div>\n",
              "<style scoped>\n",
              "    .dataframe tbody tr th:only-of-type {\n",
              "        vertical-align: middle;\n",
              "    }\n",
              "\n",
              "    .dataframe tbody tr th {\n",
              "        vertical-align: top;\n",
              "    }\n",
              "\n",
              "    .dataframe thead th {\n",
              "        text-align: right;\n",
              "    }\n",
              "</style>\n",
              "<table border=\"1\" class=\"dataframe\">\n",
              "  <thead>\n",
              "    <tr style=\"text-align: right;\">\n",
              "      <th></th>\n",
              "      <th>Tweets</th>\n",
              "    </tr>\n",
              "  </thead>\n",
              "  <tbody>\n",
              "    <tr>\n",
              "      <th>0</th>\n",
              "      <td>\"Jorge del Castillo, ladrón, rata, raaaaata!!!...</td>\n",
              "    </tr>\n",
              "    <tr>\n",
              "      <th>1</th>\n",
              "      <td>¿A quién representa A nadie, excepto, a su pad...</td>\n",
              "    </tr>\n",
              "    <tr>\n",
              "      <th>2</th>\n",
              "      <td>No olvides q es hija del ex congresista Fujimo...</td>\n",
              "    </tr>\n",
              "    <tr>\n",
              "      <th>3</th>\n",
              "      <td>La congresista Roselli Amuruz, solo representa...</td>\n",
              "    </tr>\n",
              "    <tr>\n",
              "      <th>4</th>\n",
              "      <td>Cuanta razón tiene Héctor Béjar cuando habla d...</td>\n",
              "    </tr>\n",
              "    <tr>\n",
              "      <th>5</th>\n",
              "      <td>En un país como el nuestro, sería tremendament...</td>\n",
              "    </tr>\n",
              "    <tr>\n",
              "      <th>6</th>\n",
              "      <td>Alex Kouri, el mayor delincuente y corrupto po...</td>\n",
              "    </tr>\n",
              "    <tr>\n",
              "      <th>7</th>\n",
              "      <td>Totalmente irresponsable, en un país como el n...</td>\n",
              "    </tr>\n",
              "    <tr>\n",
              "      <th>8</th>\n",
              "      <td>Jóvenes, si van a seguir creyendo a este tipo ...</td>\n",
              "    </tr>\n",
              "    <tr>\n",
              "      <th>9</th>\n",
              "      <td>Que se puede decir del periodismo que se suma ...</td>\n",
              "    </tr>\n",
              "    <tr>\n",
              "      <th>10</th>\n",
              "      <td>Quieren regresar nuevamente a robar al gobiern...</td>\n",
              "    </tr>\n",
              "    <tr>\n",
              "      <th>11</th>\n",
              "      <td>¿ Qué hacen tanto ex militares, de alto rango,...</td>\n",
              "    </tr>\n",
              "    <tr>\n",
              "      <th>12</th>\n",
              "      <td>No es posible que el Perú este a punto de ser ...</td>\n",
              "    </tr>\n",
              "    <tr>\n",
              "      <th>13</th>\n",
              "      <td>No deja de ser sospechoso que la prensa promue...</td>\n",
              "    </tr>\n",
              "    <tr>\n",
              "      <th>14</th>\n",
              "      <td>No contentos con destrozar el país en los 90s ...</td>\n",
              "    </tr>\n",
              "    <tr>\n",
              "      <th>15</th>\n",
              "      <td>Mucha gente de twitter prefiere vivir en la ig...</td>\n",
              "    </tr>\n",
              "    <tr>\n",
              "      <th>16</th>\n",
              "      <td>La historia no se puede reescribir, fujitrolle...</td>\n",
              "    </tr>\n",
              "  </tbody>\n",
              "</table>\n",
              "</div>"
            ],
            "text/plain": [
              "                                               Tweets\n",
              "0   \"Jorge del Castillo, ladrón, rata, raaaaata!!!...\n",
              "1   ¿A quién representa A nadie, excepto, a su pad...\n",
              "2   No olvides q es hija del ex congresista Fujimo...\n",
              "3   La congresista Roselli Amuruz, solo representa...\n",
              "4   Cuanta razón tiene Héctor Béjar cuando habla d...\n",
              "5   En un país como el nuestro, sería tremendament...\n",
              "6   Alex Kouri, el mayor delincuente y corrupto po...\n",
              "7   Totalmente irresponsable, en un país como el n...\n",
              "8   Jóvenes, si van a seguir creyendo a este tipo ...\n",
              "9   Que se puede decir del periodismo que se suma ...\n",
              "10  Quieren regresar nuevamente a robar al gobiern...\n",
              "11  ¿ Qué hacen tanto ex militares, de alto rango,...\n",
              "12  No es posible que el Perú este a punto de ser ...\n",
              "13  No deja de ser sospechoso que la prensa promue...\n",
              "14  No contentos con destrozar el país en los 90s ...\n",
              "15  Mucha gente de twitter prefiere vivir en la ig...\n",
              "16  La historia no se puede reescribir, fujitrolle..."
            ]
          },
          "metadata": {},
          "execution_count": 47
        }
      ]
    },
    {
      "cell_type": "code",
      "metadata": {
        "colab": {
          "base_uri": "https://localhost:8080/",
          "height": 676
        },
        "id": "9NY9JSQAJI7b",
        "outputId": "23cc314e-2355-4a01-dc70-5d6f976128df"
      },
      "source": [
        "df['Analysis'] = df['Tweets'].apply(resultado)\n",
        "df"
      ],
      "execution_count": null,
      "outputs": [
        {
          "output_type": "stream",
          "text": [
            "/usr/local/lib/python3.7/dist-packages/sklearn/base.py:318: UserWarning: Trying to unpickle estimator CountVectorizer from version 0.23.2 when using version 0.22.2.post1. This might lead to breaking code or invalid results. Use at your own risk.\n",
            "  UserWarning)\n",
            "/usr/local/lib/python3.7/dist-packages/sklearn/base.py:318: UserWarning: Trying to unpickle estimator MultinomialNB from version 0.23.2 when using version 0.22.2.post1. This might lead to breaking code or invalid results. Use at your own risk.\n",
            "  UserWarning)\n"
          ],
          "name": "stderr"
        },
        {
          "output_type": "execute_result",
          "data": {
            "text/html": [
              "<div>\n",
              "<style scoped>\n",
              "    .dataframe tbody tr th:only-of-type {\n",
              "        vertical-align: middle;\n",
              "    }\n",
              "\n",
              "    .dataframe tbody tr th {\n",
              "        vertical-align: top;\n",
              "    }\n",
              "\n",
              "    .dataframe thead th {\n",
              "        text-align: right;\n",
              "    }\n",
              "</style>\n",
              "<table border=\"1\" class=\"dataframe\">\n",
              "  <thead>\n",
              "    <tr style=\"text-align: right;\">\n",
              "      <th></th>\n",
              "      <th>Tweets</th>\n",
              "      <th>Analysis</th>\n",
              "    </tr>\n",
              "  </thead>\n",
              "  <tbody>\n",
              "    <tr>\n",
              "      <th>0</th>\n",
              "      <td>\"Jorge del Castillo, ladrón, rata, raaaaata!!!...</td>\n",
              "      <td>Positive</td>\n",
              "    </tr>\n",
              "    <tr>\n",
              "      <th>1</th>\n",
              "      <td>¿A quién representa A nadie, excepto, a su pad...</td>\n",
              "      <td>Negative</td>\n",
              "    </tr>\n",
              "    <tr>\n",
              "      <th>2</th>\n",
              "      <td>No olvides q es hija del ex congresista Fujimo...</td>\n",
              "      <td>Negative</td>\n",
              "    </tr>\n",
              "    <tr>\n",
              "      <th>3</th>\n",
              "      <td>La congresista Roselli Amuruz, solo representa...</td>\n",
              "      <td>Negative</td>\n",
              "    </tr>\n",
              "    <tr>\n",
              "      <th>4</th>\n",
              "      <td>Cuanta razón tiene Héctor Béjar cuando habla d...</td>\n",
              "      <td>Negative</td>\n",
              "    </tr>\n",
              "    <tr>\n",
              "      <th>5</th>\n",
              "      <td>En un país como el nuestro, sería tremendament...</td>\n",
              "      <td>Negative</td>\n",
              "    </tr>\n",
              "    <tr>\n",
              "      <th>6</th>\n",
              "      <td>Alex Kouri, el mayor delincuente y corrupto po...</td>\n",
              "      <td>Negative</td>\n",
              "    </tr>\n",
              "    <tr>\n",
              "      <th>7</th>\n",
              "      <td>Totalmente irresponsable, en un país como el n...</td>\n",
              "      <td>Negative</td>\n",
              "    </tr>\n",
              "    <tr>\n",
              "      <th>8</th>\n",
              "      <td>Jóvenes, si van a seguir creyendo a este tipo ...</td>\n",
              "      <td>Negative</td>\n",
              "    </tr>\n",
              "    <tr>\n",
              "      <th>9</th>\n",
              "      <td>Que se puede decir del periodismo que se suma ...</td>\n",
              "      <td>Negative</td>\n",
              "    </tr>\n",
              "    <tr>\n",
              "      <th>10</th>\n",
              "      <td>Quieren regresar nuevamente a robar al gobiern...</td>\n",
              "      <td>Negative</td>\n",
              "    </tr>\n",
              "    <tr>\n",
              "      <th>11</th>\n",
              "      <td>¿ Qué hacen tanto ex militares, de alto rango,...</td>\n",
              "      <td>Negative</td>\n",
              "    </tr>\n",
              "    <tr>\n",
              "      <th>12</th>\n",
              "      <td>No es posible que el Perú este a punto de ser ...</td>\n",
              "      <td>Negative</td>\n",
              "    </tr>\n",
              "    <tr>\n",
              "      <th>13</th>\n",
              "      <td>No deja de ser sospechoso que la prensa promue...</td>\n",
              "      <td>Negative</td>\n",
              "    </tr>\n",
              "    <tr>\n",
              "      <th>14</th>\n",
              "      <td>No contentos con destrozar el país en los 90s ...</td>\n",
              "      <td>Negative</td>\n",
              "    </tr>\n",
              "    <tr>\n",
              "      <th>15</th>\n",
              "      <td>Mucha gente de twitter prefiere vivir en la ig...</td>\n",
              "      <td>Negative</td>\n",
              "    </tr>\n",
              "    <tr>\n",
              "      <th>16</th>\n",
              "      <td>La historia no se puede reescribir, fujitrolle...</td>\n",
              "      <td>Negative</td>\n",
              "    </tr>\n",
              "  </tbody>\n",
              "</table>\n",
              "</div>"
            ],
            "text/plain": [
              "                                               Tweets  Analysis\n",
              "0   \"Jorge del Castillo, ladrón, rata, raaaaata!!!...  Positive\n",
              "1   ¿A quién representa A nadie, excepto, a su pad...  Negative\n",
              "2   No olvides q es hija del ex congresista Fujimo...  Negative\n",
              "3   La congresista Roselli Amuruz, solo representa...  Negative\n",
              "4   Cuanta razón tiene Héctor Béjar cuando habla d...  Negative\n",
              "5   En un país como el nuestro, sería tremendament...  Negative\n",
              "6   Alex Kouri, el mayor delincuente y corrupto po...  Negative\n",
              "7   Totalmente irresponsable, en un país como el n...  Negative\n",
              "8   Jóvenes, si van a seguir creyendo a este tipo ...  Negative\n",
              "9   Que se puede decir del periodismo que se suma ...  Negative\n",
              "10  Quieren regresar nuevamente a robar al gobiern...  Negative\n",
              "11  ¿ Qué hacen tanto ex militares, de alto rango,...  Negative\n",
              "12  No es posible que el Perú este a punto de ser ...  Negative\n",
              "13  No deja de ser sospechoso que la prensa promue...  Negative\n",
              "14  No contentos con destrozar el país en los 90s ...  Negative\n",
              "15  Mucha gente de twitter prefiere vivir en la ig...  Negative\n",
              "16  La historia no se puede reescribir, fujitrolle...  Negative"
            ]
          },
          "metadata": {},
          "execution_count": 48
        }
      ]
    },
    {
      "cell_type": "code",
      "metadata": {
        "colab": {
          "base_uri": "https://localhost:8080/"
        },
        "id": "wO5iXoiUKTSj",
        "outputId": "fe21a8e2-c072-425e-8385-e1476fc9bca2"
      },
      "source": [
        "j=1\n",
        "for i in range(0, df.shape[0]):\n",
        "  if(df['Analysis'][i] == 'Positive'):\n",
        "    print(str(j) + ') ' + df['Tweets'][i])\n",
        "    print()\n",
        "    j += 1"
      ],
      "execution_count": null,
      "outputs": [
        {
          "output_type": "stream",
          "text": [
            "1) \"Jorge del Castillo, ladrón, rata, raaaaata!!!!!!\" Tremendo recibimiento del pueblo digno de Arequipa. \n",
            "\n"
          ],
          "name": "stdout"
        }
      ]
    },
    {
      "cell_type": "code",
      "metadata": {
        "colab": {
          "base_uri": "https://localhost:8080/"
        },
        "id": "oxbSsym6KUqD",
        "outputId": "9106e023-1a34-4d2a-b9a4-d5893bf08646"
      },
      "source": [
        "j=1\n",
        "for i in range(0, df.shape[0]):\n",
        "  if(df['Analysis'][i] == 'Negative'):\n",
        "    print(str(j) + ') ' + df['Tweets'][i])\n",
        "    print()\n",
        "    j += 1"
      ],
      "execution_count": null,
      "outputs": [
        {
          "output_type": "stream",
          "text": [
            "1) ¿A quién representa A nadie, excepto, a su padre, al ex congresista fujimorista, magnate de la educación, dueño de IDAT y de la Univ. UTP. De currículum lamentable, cero experiencia política, solo mucho dinero. \n",
            "\n",
            "2) No olvides q es hija del ex congresista Fujimorista Amuruz, maganate de la educación, dueño de IDAT y de la universidad UTP. La cumpleañera no representa a nadie, tan sólo a su bolsillo. \n",
            "\n",
            "3) La congresista Roselli Amuruz, solo representa los intereses de su padre, ex fujimorista y ahora magnate de la educación, dueño de IDAT y la Univ. UTP. O sea intereses personales. Por eso su CV es lamentable, cero experiencia. \n",
            "\n",
            "4) Cuanta razón tiene Héctor Béjar cuando habla de la derecha, por ejemplo respecto a los ataques: \"viniendo de quienes viene y teniendo en cuenta el tipo de ataques que me han lanzado, supongo que eso contribuye a mi prestigio\" \n",
            "\n",
            "5) En un país como el nuestro, sería tremendamente irresponsable acelerar el retorno, sin haber alcanzado un mínimo de vacunación de la población. Con un sistema de salud lamentable. Por Covid19 \n",
            "\n",
            "6) Alex Kouri, el mayor delincuente y corrupto político del Callao, regresa apadrinado por Willax y por el ex-marino Luis Giampietri, lamebotas de capos como Vladimiro Montesinos y de Alan Garcia. Se requiere una respuesta decidida contra esta mafia perversa. \n",
            "\n",
            "7) Totalmente irresponsable, en un país como el nuestro, utilizar a los niños, para sus criticas políticas, sabiendo que el Sistema de Salud es deficiente. por Covid19. \n",
            "\n",
            "8) Jóvenes, si van a seguir creyendo a este tipo de sujetos que se esconden detrás de la Marina, no duden que vivirán en unos años en un NarcoEstado. Son estos los seguidores de Montesinos, alguien que utilizó las FFAA y la humilló. \n",
            "\n",
            "9) Que se puede decir del periodismo que se suma al cargamonton de ex militares que se arrodillaron al mayores narcos de los 90, Fujimori y Montesinos? ¿Cómo deberíamos llamar a estos \"periodistas\"?, solo mermeleros o NarcoMermeleros? de dónde tanto dinero? \n",
            "\n",
            "10) Quieren regresar nuevamente a robar al gobierno, saquear el Perú, pero además quieren convertirnos en un narco estado, en un estado fallido. Mucho joven ignorante y confundido se deja engañar por militares q se arrodillaron a Montesinos o a abogadas de Narcos. \n",
            "\n",
            "11) ¿ Qué hacen tanto ex militares, de alto rango, de la marina y del ejercito, en el Congreso?, ¿Por qué justamente son peones de partidos fachos, corruptos como el de Lopez Aliaga, Fuerza Popular, Acuña o Podemos? \n",
            "\n",
            "12) No es posible que el Perú este a punto de ser capturado nuevamente por corruptos que amparados en grados militares pretenden levantarse como defensores de la democracia, cuando en realidad son servidores de la CORRPCION Y DEL NARCOTRAFICO. Cuidado Perú!!! \n",
            "\n",
            "13) No deja de ser sospechoso que la prensa promueva a estos tipos, que fueron sirvientes el mayor corrupto y narco de los 90s, Vladimiro Montesinos. Quieren volver al poder, quieren terminar su labor criminal. Desafuero a estos miserables del Congreso!!! \n",
            "\n",
            "14) No contentos con destrozar el país en los 90s con el delincuente Montesinos, estos pseudo militares, nuevamente atacan a la Patria, al Perú. ¿Qué buscan realmente? ¿Quieren cumplir su sueño en convertirnos en un NarcoEstado? No a los ex militares servidores del crimen organizado \n",
            "\n",
            "15) Mucha gente de twitter prefiere vivir en la ignorancia. Aquí tienen un ejemplo. \n",
            "\n",
            "16) La historia no se puede reescribir, fujitrolles. Podrán vandalizar el arte popular, pero no la memoria del pueblo. \n",
            "\n"
          ],
          "name": "stdout"
        }
      ]
    },
    {
      "cell_type": "code",
      "metadata": {
        "colab": {
          "base_uri": "https://localhost:8080/"
        },
        "id": "Tfam-jbGKWr6",
        "outputId": "75678e3e-7429-4b8d-90cc-409492dea297"
      },
      "source": [
        "ptweet = df[df.Analysis == 'Positive']\n",
        "pteet = ptweet['Tweets']\n",
        "\n",
        "round(ptweet.shape[0] / df.shape[0] * 100, 1)"
      ],
      "execution_count": null,
      "outputs": [
        {
          "output_type": "execute_result",
          "data": {
            "text/plain": [
              "5.9"
            ]
          },
          "metadata": {},
          "execution_count": 56
        }
      ]
    },
    {
      "cell_type": "code",
      "metadata": {
        "colab": {
          "base_uri": "https://localhost:8080/"
        },
        "id": "C4hYV_GDKXoz",
        "outputId": "b845eb5e-bff0-4688-9df4-de524704d640"
      },
      "source": [
        "ntweet = df[df.Analysis == 'Negative']\n",
        "nteet = ntweet['Tweets']\n",
        "\n",
        "round(ntweet.shape[0] / df.shape[0] * 100, 1)"
      ],
      "execution_count": null,
      "outputs": [
        {
          "output_type": "execute_result",
          "data": {
            "text/plain": [
              "94.1"
            ]
          },
          "metadata": {},
          "execution_count": 57
        }
      ]
    },
    {
      "cell_type": "code",
      "metadata": {
        "colab": {
          "base_uri": "https://localhost:8080/",
          "height": 330
        },
        "id": "VDRwEYInLakj",
        "outputId": "efaf1e03-4a05-4664-a51c-76d6761092d8"
      },
      "source": [
        "import matplotlib.pyplot as plt\n",
        "df['Analysis'].value_counts()\n",
        "\n",
        "plt.title('Sentiment Analysis')\n",
        "plt.xlabel('Sentiment')\n",
        "plt.ylabel('Counts')\n",
        "df['Analysis'].value_counts().plot(kind='bar')\n",
        "plt.show()"
      ],
      "execution_count": null,
      "outputs": [
        {
          "output_type": "display_data",
          "data": {
            "image/png": "[encoded data removed]",
            "text/plain": [
              "<Figure size 432x288 with 1 Axes>"
            ]
          },
          "metadata": {
            "needs_background": "light"
          }
        }
      ]
    }
  ]
}