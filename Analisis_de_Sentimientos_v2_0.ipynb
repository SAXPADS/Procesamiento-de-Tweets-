{
  "nbformat": 4,
  "nbformat_minor": 0,
  "metadata": {
    "colab": {
      "name": "Analisis de Sentimientos v2.0.ipynb",
      "provenance": [],
      "collapsed_sections": []
    },
    "kernelspec": {
      "name": "python3",
      "display_name": "Python 3"
    }
  },
  "cells": [
    {
      "cell_type": "markdown",
      "metadata": {
        "id": "1nHy_JirMB5T"
      },
      "source": [
        "#Analisis de Sentimientos\n",
        "\n",
        "*   TextBlob\n",
        "*   GoogleTranslator"
      ]
    },
    {
      "cell_type": "code",
      "metadata": {
        "id": "Vxu89G4kmjAV",
        "colab": {
          "base_uri": "https://localhost:8080/"
        },
        "outputId": "6715f6ec-57d6-4402-e277-c80a9f05261f"
      },
      "source": [
        "import tweepy \n",
        "from textblob import TextBlob \n",
        "from wordcloud import WordCloud\n",
        "import pandas as pd\n",
        "import numpy as np \n",
        "import re\n",
        "import matplotlib.pyplot as plt\n",
        "!pip install deep-translator\n",
        "from deep_translator import GoogleTranslator\n",
        "plt.style.use('fivethirtyeight')"
      ],
      "execution_count": null,
      "outputs": [
        {
          "output_type": "stream",
          "text": [
            "Requirement already satisfied: deep-translator in /usr/local/lib/python3.7/dist-packages (1.5.0)\n",
            "Requirement already satisfied: requests in /usr/local/lib/python3.7/dist-packages (from deep-translator) (2.23.0)\n",
            "Requirement already satisfied: beautifulsoup4 in /usr/local/lib/python3.7/dist-packages (from deep-translator) (4.6.3)\n",
            "Requirement already satisfied: click in /usr/local/lib/python3.7/dist-packages (from deep-translator) (7.1.2)\n",
            "Requirement already satisfied: idna<3,>=2.5 in /usr/local/lib/python3.7/dist-packages (from requests->deep-translator) (2.10)\n",
            "Requirement already satisfied: certifi>=2017.4.17 in /usr/local/lib/python3.7/dist-packages (from requests->deep-translator) (2021.5.30)\n",
            "Requirement already satisfied: chardet<4,>=3.0.2 in /usr/local/lib/python3.7/dist-packages (from requests->deep-translator) (3.0.4)\n",
            "Requirement already satisfied: urllib3!=1.25.0,!=1.25.1,<1.26,>=1.21.1 in /usr/local/lib/python3.7/dist-packages (from requests->deep-translator) (1.24.3)\n"
          ],
          "name": "stdout"
        }
      ]
    },
    {
      "cell_type": "code",
      "metadata": {
        "id": "TINGrL_i2yBv"
      },
      "source": [
        "def remove_emojis(data):\n",
        "    emoj = re.compile(\"[\"\n",
        "        u\"\\U0001F600-\\U0001F64F\"  # emoticons\n",
        "        u\"\\U0001F300-\\U0001F5FF\"  # symbols & pictographs\n",
        "        u\"\\U0001F680-\\U0001F6FF\"  # transport & map symbols\n",
        "        u\"\\U0001F1E0-\\U0001F1FF\"  # flags (iOS)\n",
        "        u\"\\U00002500-\\U00002BEF\"  # chinese char\n",
        "        u\"\\U00002702-\\U000027B0\"\n",
        "        u\"\\U00002702-\\U000027B0\"\n",
        "        u\"\\U000024C2-\\U0001F251\"\n",
        "        u\"\\U0001f926-\\U0001f937\"\n",
        "        u\"\\U00010000-\\U0010ffff\"\n",
        "        u\"\\u2640-\\u2642\" \n",
        "        u\"\\u2600-\\u2B55\"\n",
        "        u\"\\u200d\"\n",
        "        u\"\\u23cf\"\n",
        "        u\"\\u23e9\"\n",
        "        u\"\\u231a\"\n",
        "        u\"\\ufe0f\"  # dingbats\n",
        "        u\"\\u3030\"\n",
        "                      \"]+\", re.UNICODE)\n",
        "    return re.sub(emoj, '', data)\n",
        "def hacer_corpus_mod(tweets):\n",
        "    corpus = []\n",
        "    for i in range(0, len(tweets)):\n",
        "        #eliminamos los links y hasgtags\n",
        "        tweets['tweet'][i] = \" \".join([word for word in tweets['tweet'][i].split()\n",
        "                                        if 'http' not in word and '@' not in word and '#' not in word])\n",
        "        #definimos caracteres que pueden leer\n",
        "        #title = re.sub('[^a-zA-ZáéíóúñÁÉÍÓÚ]', ' ', tweets['tweet'][i])\n",
        "        title = re.sub(\"@\\S+\", \" \", tweets['tweet'][i])\n",
        "        title = re.sub(\"#\\S+\", \" \", title)\n",
        "        title = title.replace('|', '')\n",
        "        title = remove_emojis(title)\n",
        "        #transformamos las mayusculas en minusculas\n",
        "        #title = title.lower()\n",
        "        #generamos los arreglos respectivos para los tweets con los carcteres aceptados\n",
        "        title = title.split()\n",
        "        #print(title)\n",
        "        #eliminamos aquellas palabras que esten en el stopwords del español\n",
        "        #title = [word for word in title if (not word in FinalStopWords and word != \"rt\")]\n",
        "        #volvemos a crear el corpus con las palabras aceptadas\n",
        "        title = ' '.join(title) + \" \"\n",
        "        corpus.append(title)\n",
        "    return corpus"
      ],
      "execution_count": null,
      "outputs": []
    },
    {
      "cell_type": "code",
      "metadata": {
        "colab": {
          "base_uri": "https://localhost:8080/"
        },
        "id": "PXbiU1g_8wgy",
        "outputId": "1637eb3e-b825-4759-a54a-bc4f6b032a32"
      },
      "source": [
        "def traducir_en_to_es(text):\n",
        "    translated = GoogleTranslator(source='en', target='es').translate(text)\n",
        "    return translated\n",
        "def traducir_es_to_en(text):\n",
        "    translated = GoogleTranslator(source='es', target='en').translate(text)\n",
        "    return translated\n",
        "\n",
        "to_translate = 'I want to translate this text'\n",
        "print(traducir_en_to_es(translated))"
      ],
      "execution_count": null,
      "outputs": [
        {
          "output_type": "stream",
          "text": [
            "Quiero traducir este texto\n"
          ],
          "name": "stdout"
        }
      ]
    },
    {
      "cell_type": "code",
      "metadata": {
        "id": "797nnj44rTjk"
      },
      "source": [
        "def get_subjectivity(text):\n",
        "  return TextBlob(text).sentiment.subjectivity\n",
        "\n",
        "def get_polarity(text):\n",
        "  return TextBlob(text).sentiment.polarity\n",
        "\n",
        "def analysis(score):\n",
        "  if score < 0:\n",
        "    return 'Negative'\n",
        "  #elif score == 0:\n",
        "   # return 'Neutral'\n",
        "  # else:\n",
        "  #   return 'Positive'\n",
        "  else:\n",
        "    return 'Positive'"
      ],
      "execution_count": null,
      "outputs": []
    },
    {
      "cell_type": "code",
      "metadata": {
        "colab": {
          "base_uri": "https://localhost:8080/"
        },
        "id": "p6towTLv3IZH",
        "outputId": "984b864e-c0a3-417b-eebd-f635bb5dc5fc"
      },
      "source": [
        "Data=hacer_corpus_mod(pd.read_csv('timpanoperu.csv'))\n",
        "print(Data)"
      ],
      "execution_count": null,
      "outputs": [
        {
          "output_type": "stream",
          "text": [
            "['\"Jorge del Castillo, ladrón, rata, raaaaata!!!!!!\" Tremendo recibimiento del pueblo digno de Arequipa. ', '¿A quién representa A nadie, excepto, a su padre, al ex congresista fujimorista, magnate de la educación, dueño de IDAT y de la Univ. UTP. De currículum lamentable, cero experiencia política, solo mucho dinero. ', 'No olvides q es hija del ex congresista Fujimorista Amuruz, maganate de la educación, dueño de IDAT y de la universidad UTP. La cumpleañera no representa a nadie, tan sólo a su bolsillo. ', 'La congresista Roselli Amuruz, solo representa los intereses de su padre, ex fujimorista y ahora magnate de la educación, dueño de IDAT y la Univ. UTP. O sea intereses personales. Por eso su CV es lamentable, cero experiencia. ', 'Cuanta razón tiene Héctor Béjar cuando habla de la derecha, por ejemplo respecto a los ataques: \"viniendo de quienes viene y teniendo en cuenta el tipo de ataques que me han lanzado, supongo que eso contribuye a mi prestigio\" ', 'En un país como el nuestro, sería tremendamente irresponsable acelerar el retorno, sin haber alcanzado un mínimo de vacunación de la población. Con un sistema de salud lamentable. Por Covid19 ', 'Alex Kouri, el mayor delincuente y corrupto político del Callao, regresa apadrinado por Willax y por el ex-marino Luis Giampietri, lamebotas de capos como Vladimiro Montesinos y de Alan Garcia. Se requiere una respuesta decidida contra esta mafia perversa. ', 'Totalmente irresponsable, en un país como el nuestro, utilizar a los niños, para sus criticas políticas, sabiendo que el Sistema de Salud es deficiente. por Covid19. ', 'Jóvenes, si van a seguir creyendo a este tipo de sujetos que se esconden detrás de la Marina, no duden que vivirán en unos años en un NarcoEstado. Son estos los seguidores de Montesinos, alguien que utilizó las FFAA y la humilló. ', 'Que se puede decir del periodismo que se suma al cargamonton de ex militares que se arrodillaron al mayores narcos de los 90, Fujimori y Montesinos? ¿Cómo deberíamos llamar a estos \"periodistas\"?, solo mermeleros o NarcoMermeleros? de dónde tanto dinero? ', 'Quieren regresar nuevamente a robar al gobierno, saquear el Perú, pero además quieren convertirnos en un narco estado, en un estado fallido. Mucho joven ignorante y confundido se deja engañar por militares q se arrodillaron a Montesinos o a abogadas de Narcos. ', '¿ Qué hacen tanto ex militares, de alto rango, de la marina y del ejercito, en el Congreso?, ¿Por qué justamente son peones de partidos fachos, corruptos como el de Lopez Aliaga, Fuerza Popular, Acuña o Podemos? ', 'No es posible que el Perú este a punto de ser capturado nuevamente por corruptos que amparados en grados militares pretenden levantarse como defensores de la democracia, cuando en realidad son servidores de la CORRPCION Y DEL NARCOTRAFICO. Cuidado Perú!!! ', 'No deja de ser sospechoso que la prensa promueva a estos tipos, que fueron sirvientes el mayor corrupto y narco de los 90s, Vladimiro Montesinos. Quieren volver al poder, quieren terminar su labor criminal. Desafuero a estos miserables del Congreso!!! ', 'No contentos con destrozar el país en los 90s con el delincuente Montesinos, estos pseudo militares, nuevamente atacan a la Patria, al Perú. ¿Qué buscan realmente? ¿Quieren cumplir su sueño en convertirnos en un NarcoEstado? No a los ex militares servidores del crimen organizado ', 'Mucha gente de twitter prefiere vivir en la ignorancia. Aquí tienen un ejemplo. ', 'La historia no se puede reescribir, fujitrolles. Podrán vandalizar el arte popular, pero no la memoria del pueblo. ']\n"
          ],
          "name": "stdout"
        },
        {
          "output_type": "stream",
          "text": [
            "/usr/local/lib/python3.7/dist-packages/ipykernel_launcher.py:27: SettingWithCopyWarning: \n",
            "A value is trying to be set on a copy of a slice from a DataFrame\n",
            "\n",
            "See the caveats in the documentation: https://pandas.pydata.org/pandas-docs/stable/user_guide/indexing.html#returning-a-view-versus-a-copy\n"
          ],
          "name": "stderr"
        }
      ]
    },
    {
      "cell_type": "code",
      "metadata": {
        "colab": {
          "base_uri": "https://localhost:8080/",
          "height": 583
        },
        "id": "I56aWUjVo7XG",
        "outputId": "bed06311-c44b-4c0b-d636-9a0a9aa70eb7"
      },
      "source": [
        "df = pd.DataFrame(Data, columns=['Tweets'])\n",
        "df"
      ],
      "execution_count": null,
      "outputs": [
        {
          "output_type": "execute_result",
          "data": {
            "text/html": [
              "<div>\n",
              "<style scoped>\n",
              "    .dataframe tbody tr th:only-of-type {\n",
              "        vertical-align: middle;\n",
              "    }\n",
              "\n",
              "    .dataframe tbody tr th {\n",
              "        vertical-align: top;\n",
              "    }\n",
              "\n",
              "    .dataframe thead th {\n",
              "        text-align: right;\n",
              "    }\n",
              "</style>\n",
              "<table border=\"1\" class=\"dataframe\">\n",
              "  <thead>\n",
              "    <tr style=\"text-align: right;\">\n",
              "      <th></th>\n",
              "      <th>Tweets</th>\n",
              "    </tr>\n",
              "  </thead>\n",
              "  <tbody>\n",
              "    <tr>\n",
              "      <th>0</th>\n",
              "      <td>\"Jorge del Castillo, ladrón, rata, raaaaata!!!...</td>\n",
              "    </tr>\n",
              "    <tr>\n",
              "      <th>1</th>\n",
              "      <td>¿A quién representa A nadie, excepto, a su pad...</td>\n",
              "    </tr>\n",
              "    <tr>\n",
              "      <th>2</th>\n",
              "      <td>No olvides q es hija del ex congresista Fujimo...</td>\n",
              "    </tr>\n",
              "    <tr>\n",
              "      <th>3</th>\n",
              "      <td>La congresista Roselli Amuruz, solo representa...</td>\n",
              "    </tr>\n",
              "    <tr>\n",
              "      <th>4</th>\n",
              "      <td>Cuanta razón tiene Héctor Béjar cuando habla d...</td>\n",
              "    </tr>\n",
              "    <tr>\n",
              "      <th>5</th>\n",
              "      <td>En un país como el nuestro, sería tremendament...</td>\n",
              "    </tr>\n",
              "    <tr>\n",
              "      <th>6</th>\n",
              "      <td>Alex Kouri, el mayor delincuente y corrupto po...</td>\n",
              "    </tr>\n",
              "    <tr>\n",
              "      <th>7</th>\n",
              "      <td>Totalmente irresponsable, en un país como el n...</td>\n",
              "    </tr>\n",
              "    <tr>\n",
              "      <th>8</th>\n",
              "      <td>Jóvenes, si van a seguir creyendo a este tipo ...</td>\n",
              "    </tr>\n",
              "    <tr>\n",
              "      <th>9</th>\n",
              "      <td>Que se puede decir del periodismo que se suma ...</td>\n",
              "    </tr>\n",
              "    <tr>\n",
              "      <th>10</th>\n",
              "      <td>Quieren regresar nuevamente a robar al gobiern...</td>\n",
              "    </tr>\n",
              "    <tr>\n",
              "      <th>11</th>\n",
              "      <td>¿ Qué hacen tanto ex militares, de alto rango,...</td>\n",
              "    </tr>\n",
              "    <tr>\n",
              "      <th>12</th>\n",
              "      <td>No es posible que el Perú este a punto de ser ...</td>\n",
              "    </tr>\n",
              "    <tr>\n",
              "      <th>13</th>\n",
              "      <td>No deja de ser sospechoso que la prensa promue...</td>\n",
              "    </tr>\n",
              "    <tr>\n",
              "      <th>14</th>\n",
              "      <td>No contentos con destrozar el país en los 90s ...</td>\n",
              "    </tr>\n",
              "    <tr>\n",
              "      <th>15</th>\n",
              "      <td>Mucha gente de twitter prefiere vivir en la ig...</td>\n",
              "    </tr>\n",
              "    <tr>\n",
              "      <th>16</th>\n",
              "      <td>La historia no se puede reescribir, fujitrolle...</td>\n",
              "    </tr>\n",
              "  </tbody>\n",
              "</table>\n",
              "</div>"
            ],
            "text/plain": [
              "                                               Tweets\n",
              "0   \"Jorge del Castillo, ladrón, rata, raaaaata!!!...\n",
              "1   ¿A quién representa A nadie, excepto, a su pad...\n",
              "2   No olvides q es hija del ex congresista Fujimo...\n",
              "3   La congresista Roselli Amuruz, solo representa...\n",
              "4   Cuanta razón tiene Héctor Béjar cuando habla d...\n",
              "5   En un país como el nuestro, sería tremendament...\n",
              "6   Alex Kouri, el mayor delincuente y corrupto po...\n",
              "7   Totalmente irresponsable, en un país como el n...\n",
              "8   Jóvenes, si van a seguir creyendo a este tipo ...\n",
              "9   Que se puede decir del periodismo que se suma ...\n",
              "10  Quieren regresar nuevamente a robar al gobiern...\n",
              "11  ¿ Qué hacen tanto ex militares, de alto rango,...\n",
              "12  No es posible que el Perú este a punto de ser ...\n",
              "13  No deja de ser sospechoso que la prensa promue...\n",
              "14  No contentos con destrozar el país en los 90s ...\n",
              "15  Mucha gente de twitter prefiere vivir en la ig...\n",
              "16  La historia no se puede reescribir, fujitrolle..."
            ]
          },
          "metadata": {},
          "execution_count": 171
        }
      ]
    },
    {
      "cell_type": "code",
      "metadata": {
        "colab": {
          "base_uri": "https://localhost:8080/",
          "height": 583
        },
        "id": "0Es4PLVEBufR",
        "outputId": "b05db112-98b8-451e-9439-21ca645e0e53"
      },
      "source": [
        "df['Tweets'] = df['Tweets'].apply(traducir_es_to_en)\n",
        "df"
      ],
      "execution_count": null,
      "outputs": [
        {
          "output_type": "execute_result",
          "data": {
            "text/html": [
              "<div>\n",
              "<style scoped>\n",
              "    .dataframe tbody tr th:only-of-type {\n",
              "        vertical-align: middle;\n",
              "    }\n",
              "\n",
              "    .dataframe tbody tr th {\n",
              "        vertical-align: top;\n",
              "    }\n",
              "\n",
              "    .dataframe thead th {\n",
              "        text-align: right;\n",
              "    }\n",
              "</style>\n",
              "<table border=\"1\" class=\"dataframe\">\n",
              "  <thead>\n",
              "    <tr style=\"text-align: right;\">\n",
              "      <th></th>\n",
              "      <th>Tweets</th>\n",
              "    </tr>\n",
              "  </thead>\n",
              "  <tbody>\n",
              "    <tr>\n",
              "      <th>0</th>\n",
              "      <td>\"Jorge del Castillo, thief, rat, raaaaata !!!!...</td>\n",
              "    </tr>\n",
              "    <tr>\n",
              "      <th>1</th>\n",
              "      <td>Who does he represent? Nobody, except his fath...</td>\n",
              "    </tr>\n",
              "    <tr>\n",
              "      <th>2</th>\n",
              "      <td>Do not forget that she is the daughter of form...</td>\n",
              "    </tr>\n",
              "    <tr>\n",
              "      <th>3</th>\n",
              "      <td>Congresswoman Roselli Amuruz only represents t...</td>\n",
              "    </tr>\n",
              "    <tr>\n",
              "      <th>4</th>\n",
              "      <td>How right is Héctor Béjar when he talks about ...</td>\n",
              "    </tr>\n",
              "    <tr>\n",
              "      <th>5</th>\n",
              "      <td>In a country like ours, it would be tremendous...</td>\n",
              "    </tr>\n",
              "    <tr>\n",
              "      <th>6</th>\n",
              "      <td>Alex Kouri, the biggest criminal and corrupt p...</td>\n",
              "    </tr>\n",
              "    <tr>\n",
              "      <th>7</th>\n",
              "      <td>Totally irresponsible, in a country like ours,...</td>\n",
              "    </tr>\n",
              "    <tr>\n",
              "      <th>8</th>\n",
              "      <td>Young people, if you are going to continue to ...</td>\n",
              "    </tr>\n",
              "    <tr>\n",
              "      <th>9</th>\n",
              "      <td>What can be said about the journalism that add...</td>\n",
              "    </tr>\n",
              "    <tr>\n",
              "      <th>10</th>\n",
              "      <td>They want to return again to rob the governmen...</td>\n",
              "    </tr>\n",
              "    <tr>\n",
              "      <th>11</th>\n",
              "      <td>What are both ex-military, high-ranking, from ...</td>\n",
              "    </tr>\n",
              "    <tr>\n",
              "      <th>12</th>\n",
              "      <td>It is not possible that Peru is about to be ca...</td>\n",
              "    </tr>\n",
              "    <tr>\n",
              "      <th>13</th>\n",
              "      <td>It is still suspicious that the press promotes...</td>\n",
              "    </tr>\n",
              "    <tr>\n",
              "      <th>14</th>\n",
              "      <td>Not content with destroying the country in the...</td>\n",
              "    </tr>\n",
              "    <tr>\n",
              "      <th>15</th>\n",
              "      <td>Many people on twitter prefer to live in ignor...</td>\n",
              "    </tr>\n",
              "    <tr>\n",
              "      <th>16</th>\n",
              "      <td>History cannot be rewritten, fujitrolles. They...</td>\n",
              "    </tr>\n",
              "  </tbody>\n",
              "</table>\n",
              "</div>"
            ],
            "text/plain": [
              "                                               Tweets\n",
              "0   \"Jorge del Castillo, thief, rat, raaaaata !!!!...\n",
              "1   Who does he represent? Nobody, except his fath...\n",
              "2   Do not forget that she is the daughter of form...\n",
              "3   Congresswoman Roselli Amuruz only represents t...\n",
              "4   How right is Héctor Béjar when he talks about ...\n",
              "5   In a country like ours, it would be tremendous...\n",
              "6   Alex Kouri, the biggest criminal and corrupt p...\n",
              "7   Totally irresponsible, in a country like ours,...\n",
              "8   Young people, if you are going to continue to ...\n",
              "9   What can be said about the journalism that add...\n",
              "10  They want to return again to rob the governmen...\n",
              "11  What are both ex-military, high-ranking, from ...\n",
              "12  It is not possible that Peru is about to be ca...\n",
              "13  It is still suspicious that the press promotes...\n",
              "14  Not content with destroying the country in the...\n",
              "15  Many people on twitter prefer to live in ignor...\n",
              "16  History cannot be rewritten, fujitrolles. They..."
            ]
          },
          "metadata": {},
          "execution_count": 172
        }
      ]
    },
    {
      "cell_type": "code",
      "metadata": {
        "colab": {
          "base_uri": "https://localhost:8080/",
          "height": 206
        },
        "id": "6mk5OK_Orvd8",
        "outputId": "826b9a2b-02c0-4cc8-df25-d0c1b4e52ce5"
      },
      "source": [
        "df['Subjectivity'] = df['Tweets'].apply(get_subjectivity)\n",
        "df['Polarity'] = df['Tweets'].apply(get_polarity)\n",
        "df.head()"
      ],
      "execution_count": null,
      "outputs": [
        {
          "output_type": "execute_result",
          "data": {
            "text/html": [
              "<div>\n",
              "<style scoped>\n",
              "    .dataframe tbody tr th:only-of-type {\n",
              "        vertical-align: middle;\n",
              "    }\n",
              "\n",
              "    .dataframe tbody tr th {\n",
              "        vertical-align: top;\n",
              "    }\n",
              "\n",
              "    .dataframe thead th {\n",
              "        text-align: right;\n",
              "    }\n",
              "</style>\n",
              "<table border=\"1\" class=\"dataframe\">\n",
              "  <thead>\n",
              "    <tr style=\"text-align: right;\">\n",
              "      <th></th>\n",
              "      <th>Tweets</th>\n",
              "      <th>Subjectivity</th>\n",
              "      <th>Polarity</th>\n",
              "    </tr>\n",
              "  </thead>\n",
              "  <tbody>\n",
              "    <tr>\n",
              "      <th>0</th>\n",
              "      <td>\"Jorge del Castillo, thief, rat, raaaaata !!!!...</td>\n",
              "      <td>0.966667</td>\n",
              "      <td>0.488889</td>\n",
              "    </tr>\n",
              "    <tr>\n",
              "      <th>1</th>\n",
              "      <td>Who does he represent? Nobody, except his fath...</td>\n",
              "      <td>0.050000</td>\n",
              "      <td>0.000000</td>\n",
              "    </tr>\n",
              "    <tr>\n",
              "      <th>2</th>\n",
              "      <td>Do not forget that she is the daughter of form...</td>\n",
              "      <td>0.500000</td>\n",
              "      <td>0.000000</td>\n",
              "    </tr>\n",
              "    <tr>\n",
              "      <th>3</th>\n",
              "      <td>Congresswoman Roselli Amuruz only represents t...</td>\n",
              "      <td>0.535000</td>\n",
              "      <td>-0.125000</td>\n",
              "    </tr>\n",
              "    <tr>\n",
              "      <th>4</th>\n",
              "      <td>How right is Héctor Béjar when he talks about ...</td>\n",
              "      <td>0.535714</td>\n",
              "      <td>0.285714</td>\n",
              "    </tr>\n",
              "  </tbody>\n",
              "</table>\n",
              "</div>"
            ],
            "text/plain": [
              "                                              Tweets  Subjectivity  Polarity\n",
              "0  \"Jorge del Castillo, thief, rat, raaaaata !!!!...      0.966667  0.488889\n",
              "1  Who does he represent? Nobody, except his fath...      0.050000  0.000000\n",
              "2  Do not forget that she is the daughter of form...      0.500000  0.000000\n",
              "3  Congresswoman Roselli Amuruz only represents t...      0.535000 -0.125000\n",
              "4  How right is Héctor Béjar when he talks about ...      0.535714  0.285714"
            ]
          },
          "metadata": {},
          "execution_count": 173
        }
      ]
    },
    {
      "cell_type": "code",
      "metadata": {
        "id": "QsUNm7jsr9hI"
      },
      "source": [
        "all_words = ' '.join( [twts for twts in df['Tweets']])\n",
        "word_Cloud = WordCloud(width=500, height=300, random_state=21, max_font_size=119).generate(all_words)\n",
        "\n",
        "plt.imshow(word_Cloud, interpolation='bilinear')\n",
        "plt.axis('off')\n",
        "plt.show()"
      ],
      "execution_count": null,
      "outputs": []
    },
    {
      "cell_type": "code",
      "metadata": {
        "colab": {
          "base_uri": "https://localhost:8080/",
          "height": 583
        },
        "id": "m46ftPncss6T",
        "outputId": "901f017f-6283-4396-a5e9-1538605df915"
      },
      "source": [
        "df['Analysis'] = df['Polarity'].apply(analysis)\n",
        "\n",
        "df"
      ],
      "execution_count": null,
      "outputs": [
        {
          "output_type": "execute_result",
          "data": {
            "text/html": [
              "<div>\n",
              "<style scoped>\n",
              "    .dataframe tbody tr th:only-of-type {\n",
              "        vertical-align: middle;\n",
              "    }\n",
              "\n",
              "    .dataframe tbody tr th {\n",
              "        vertical-align: top;\n",
              "    }\n",
              "\n",
              "    .dataframe thead th {\n",
              "        text-align: right;\n",
              "    }\n",
              "</style>\n",
              "<table border=\"1\" class=\"dataframe\">\n",
              "  <thead>\n",
              "    <tr style=\"text-align: right;\">\n",
              "      <th></th>\n",
              "      <th>Tweets</th>\n",
              "      <th>Subjectivity</th>\n",
              "      <th>Polarity</th>\n",
              "      <th>Analysis</th>\n",
              "    </tr>\n",
              "  </thead>\n",
              "  <tbody>\n",
              "    <tr>\n",
              "      <th>0</th>\n",
              "      <td>\"Jorge del Castillo, thief, rat, raaaaata !!!!...</td>\n",
              "      <td>0.966667</td>\n",
              "      <td>0.488889</td>\n",
              "      <td>Positive</td>\n",
              "    </tr>\n",
              "    <tr>\n",
              "      <th>1</th>\n",
              "      <td>Who does he represent? Nobody, except his fath...</td>\n",
              "      <td>0.050000</td>\n",
              "      <td>0.000000</td>\n",
              "      <td>Positive</td>\n",
              "    </tr>\n",
              "    <tr>\n",
              "      <th>2</th>\n",
              "      <td>Do not forget that she is the daughter of form...</td>\n",
              "      <td>0.500000</td>\n",
              "      <td>0.000000</td>\n",
              "      <td>Positive</td>\n",
              "    </tr>\n",
              "    <tr>\n",
              "      <th>3</th>\n",
              "      <td>Congresswoman Roselli Amuruz only represents t...</td>\n",
              "      <td>0.535000</td>\n",
              "      <td>-0.125000</td>\n",
              "      <td>Negative</td>\n",
              "    </tr>\n",
              "    <tr>\n",
              "      <th>4</th>\n",
              "      <td>How right is Héctor Béjar when he talks about ...</td>\n",
              "      <td>0.535714</td>\n",
              "      <td>0.285714</td>\n",
              "      <td>Positive</td>\n",
              "    </tr>\n",
              "    <tr>\n",
              "      <th>5</th>\n",
              "      <td>In a country like ours, it would be tremendous...</td>\n",
              "      <td>1.000000</td>\n",
              "      <td>0.333333</td>\n",
              "      <td>Positive</td>\n",
              "    </tr>\n",
              "    <tr>\n",
              "      <th>6</th>\n",
              "      <td>Alex Kouri, the biggest criminal and corrupt p...</td>\n",
              "      <td>0.637500</td>\n",
              "      <td>-0.475000</td>\n",
              "      <td>Negative</td>\n",
              "    </tr>\n",
              "    <tr>\n",
              "      <th>7</th>\n",
              "      <td>Totally irresponsible, in a country like ours,...</td>\n",
              "      <td>0.516667</td>\n",
              "      <td>-0.133333</td>\n",
              "      <td>Negative</td>\n",
              "    </tr>\n",
              "    <tr>\n",
              "      <th>8</th>\n",
              "      <td>Young people, if you are going to continue to ...</td>\n",
              "      <td>0.425000</td>\n",
              "      <td>-0.090909</td>\n",
              "      <td>Negative</td>\n",
              "    </tr>\n",
              "    <tr>\n",
              "      <th>9</th>\n",
              "      <td>What can be said about the journalism that add...</td>\n",
              "      <td>0.496296</td>\n",
              "      <td>0.348148</td>\n",
              "      <td>Positive</td>\n",
              "    </tr>\n",
              "    <tr>\n",
              "      <th>10</th>\n",
              "      <td>They want to return again to rob the governmen...</td>\n",
              "      <td>0.475000</td>\n",
              "      <td>-0.075000</td>\n",
              "      <td>Negative</td>\n",
              "    </tr>\n",
              "    <tr>\n",
              "      <th>11</th>\n",
              "      <td>What are both ex-military, high-ranking, from ...</td>\n",
              "      <td>0.840000</td>\n",
              "      <td>0.000000</td>\n",
              "      <td>Positive</td>\n",
              "    </tr>\n",
              "    <tr>\n",
              "      <th>12</th>\n",
              "      <td>It is not possible that Peru is about to be ca...</td>\n",
              "      <td>0.700000</td>\n",
              "      <td>-0.231771</td>\n",
              "      <td>Negative</td>\n",
              "    </tr>\n",
              "    <tr>\n",
              "      <th>13</th>\n",
              "      <td>It is still suspicious that the press promotes...</td>\n",
              "      <td>0.850000</td>\n",
              "      <td>-0.093750</td>\n",
              "      <td>Negative</td>\n",
              "    </tr>\n",
              "    <tr>\n",
              "      <th>14</th>\n",
              "      <td>Not content with destroying the country in the...</td>\n",
              "      <td>0.400000</td>\n",
              "      <td>0.012500</td>\n",
              "      <td>Positive</td>\n",
              "    </tr>\n",
              "    <tr>\n",
              "      <th>15</th>\n",
              "      <td>Many people on twitter prefer to live in ignor...</td>\n",
              "      <td>0.500000</td>\n",
              "      <td>0.318182</td>\n",
              "      <td>Positive</td>\n",
              "    </tr>\n",
              "    <tr>\n",
              "      <th>16</th>\n",
              "      <td>History cannot be rewritten, fujitrolles. They...</td>\n",
              "      <td>0.900000</td>\n",
              "      <td>0.600000</td>\n",
              "      <td>Positive</td>\n",
              "    </tr>\n",
              "  </tbody>\n",
              "</table>\n",
              "</div>"
            ],
            "text/plain": [
              "                                               Tweets  ...  Analysis\n",
              "0   \"Jorge del Castillo, thief, rat, raaaaata !!!!...  ...  Positive\n",
              "1   Who does he represent? Nobody, except his fath...  ...  Positive\n",
              "2   Do not forget that she is the daughter of form...  ...  Positive\n",
              "3   Congresswoman Roselli Amuruz only represents t...  ...  Negative\n",
              "4   How right is Héctor Béjar when he talks about ...  ...  Positive\n",
              "5   In a country like ours, it would be tremendous...  ...  Positive\n",
              "6   Alex Kouri, the biggest criminal and corrupt p...  ...  Negative\n",
              "7   Totally irresponsible, in a country like ours,...  ...  Negative\n",
              "8   Young people, if you are going to continue to ...  ...  Negative\n",
              "9   What can be said about the journalism that add...  ...  Positive\n",
              "10  They want to return again to rob the governmen...  ...  Negative\n",
              "11  What are both ex-military, high-ranking, from ...  ...  Positive\n",
              "12  It is not possible that Peru is about to be ca...  ...  Negative\n",
              "13  It is still suspicious that the press promotes...  ...  Negative\n",
              "14  Not content with destroying the country in the...  ...  Positive\n",
              "15  Many people on twitter prefer to live in ignor...  ...  Positive\n",
              "16  History cannot be rewritten, fujitrolles. They...  ...  Positive\n",
              "\n",
              "[17 rows x 4 columns]"
            ]
          },
          "metadata": {},
          "execution_count": 175
        }
      ]
    },
    {
      "cell_type": "code",
      "metadata": {
        "colab": {
          "base_uri": "https://localhost:8080/",
          "height": 583
        },
        "id": "8Sh-c8vOD2gj",
        "outputId": "de883f9a-1a9f-4e06-d848-38e62485e6b8"
      },
      "source": [
        "df['Tweets'] = df['Tweets'].apply(traducir_en_to_es)\n",
        "df"
      ],
      "execution_count": null,
      "outputs": [
        {
          "output_type": "execute_result",
          "data": {
            "text/html": [
              "<div>\n",
              "<style scoped>\n",
              "    .dataframe tbody tr th:only-of-type {\n",
              "        vertical-align: middle;\n",
              "    }\n",
              "\n",
              "    .dataframe tbody tr th {\n",
              "        vertical-align: top;\n",
              "    }\n",
              "\n",
              "    .dataframe thead th {\n",
              "        text-align: right;\n",
              "    }\n",
              "</style>\n",
              "<table border=\"1\" class=\"dataframe\">\n",
              "  <thead>\n",
              "    <tr style=\"text-align: right;\">\n",
              "      <th></th>\n",
              "      <th>Tweets</th>\n",
              "      <th>Subjectivity</th>\n",
              "      <th>Polarity</th>\n",
              "      <th>Analysis</th>\n",
              "    </tr>\n",
              "  </thead>\n",
              "  <tbody>\n",
              "    <tr>\n",
              "      <th>0</th>\n",
              "      <td>\"Jorge del Castillo, ladrón, rata, raaaaata !!...</td>\n",
              "      <td>0.966667</td>\n",
              "      <td>0.488889</td>\n",
              "      <td>Positive</td>\n",
              "    </tr>\n",
              "    <tr>\n",
              "      <th>1</th>\n",
              "      <td>¿A quién representa? Nadie, excepto su padre, ...</td>\n",
              "      <td>0.050000</td>\n",
              "      <td>0.000000</td>\n",
              "      <td>Positive</td>\n",
              "    </tr>\n",
              "    <tr>\n",
              "      <th>2</th>\n",
              "      <td>No olvide que es hija del excongresista Fujimo...</td>\n",
              "      <td>0.500000</td>\n",
              "      <td>0.000000</td>\n",
              "      <td>Positive</td>\n",
              "    </tr>\n",
              "    <tr>\n",
              "      <th>3</th>\n",
              "      <td>La congresista Roselli Amuruz solo representa ...</td>\n",
              "      <td>0.535000</td>\n",
              "      <td>-0.125000</td>\n",
              "      <td>Negative</td>\n",
              "    </tr>\n",
              "    <tr>\n",
              "      <th>4</th>\n",
              "      <td>Qué razón tiene Héctor Béjar cuando habla de l...</td>\n",
              "      <td>0.535714</td>\n",
              "      <td>0.285714</td>\n",
              "      <td>Positive</td>\n",
              "    </tr>\n",
              "    <tr>\n",
              "      <th>5</th>\n",
              "      <td>En un país como el nuestro, sería tremendament...</td>\n",
              "      <td>1.000000</td>\n",
              "      <td>0.333333</td>\n",
              "      <td>Positive</td>\n",
              "    </tr>\n",
              "    <tr>\n",
              "      <th>6</th>\n",
              "      <td>Alex Kouri, el mayor político criminal y corru...</td>\n",
              "      <td>0.637500</td>\n",
              "      <td>-0.475000</td>\n",
              "      <td>Negative</td>\n",
              "    </tr>\n",
              "    <tr>\n",
              "      <th>7</th>\n",
              "      <td>Totalmente irresponsable, en un país como el n...</td>\n",
              "      <td>0.516667</td>\n",
              "      <td>-0.133333</td>\n",
              "      <td>Negative</td>\n",
              "    </tr>\n",
              "    <tr>\n",
              "      <th>8</th>\n",
              "      <td>Jóvenes, si van a seguir creyendo este tipo de...</td>\n",
              "      <td>0.425000</td>\n",
              "      <td>-0.090909</td>\n",
              "      <td>Negative</td>\n",
              "    </tr>\n",
              "    <tr>\n",
              "      <th>9</th>\n",
              "      <td>¿Qué se puede decir del periodismo que se suma...</td>\n",
              "      <td>0.496296</td>\n",
              "      <td>0.348148</td>\n",
              "      <td>Positive</td>\n",
              "    </tr>\n",
              "    <tr>\n",
              "      <th>10</th>\n",
              "      <td>Quieren volver otra vez para robar al gobierno...</td>\n",
              "      <td>0.475000</td>\n",
              "      <td>-0.075000</td>\n",
              "      <td>Negative</td>\n",
              "    </tr>\n",
              "    <tr>\n",
              "      <th>11</th>\n",
              "      <td>¿Qué están haciendo en el Congreso los dos exm...</td>\n",
              "      <td>0.840000</td>\n",
              "      <td>0.000000</td>\n",
              "      <td>Positive</td>\n",
              "    </tr>\n",
              "    <tr>\n",
              "      <th>12</th>\n",
              "      <td>No es posible que el Perú esté a punto de ser ...</td>\n",
              "      <td>0.700000</td>\n",
              "      <td>-0.231771</td>\n",
              "      <td>Negative</td>\n",
              "    </tr>\n",
              "    <tr>\n",
              "      <th>13</th>\n",
              "      <td>Todavía es sospechoso que la prensa promueva a...</td>\n",
              "      <td>0.850000</td>\n",
              "      <td>-0.093750</td>\n",
              "      <td>Negative</td>\n",
              "    </tr>\n",
              "    <tr>\n",
              "      <th>14</th>\n",
              "      <td>No contentos con destruir el país en los 90 co...</td>\n",
              "      <td>0.400000</td>\n",
              "      <td>0.012500</td>\n",
              "      <td>Positive</td>\n",
              "    </tr>\n",
              "    <tr>\n",
              "      <th>15</th>\n",
              "      <td>Mucha gente en twitter prefiere vivir en la ig...</td>\n",
              "      <td>0.500000</td>\n",
              "      <td>0.318182</td>\n",
              "      <td>Positive</td>\n",
              "    </tr>\n",
              "    <tr>\n",
              "      <th>16</th>\n",
              "      <td>La historia no se puede reescribir, fujitrolle...</td>\n",
              "      <td>0.900000</td>\n",
              "      <td>0.600000</td>\n",
              "      <td>Positive</td>\n",
              "    </tr>\n",
              "  </tbody>\n",
              "</table>\n",
              "</div>"
            ],
            "text/plain": [
              "                                               Tweets  ...  Analysis\n",
              "0   \"Jorge del Castillo, ladrón, rata, raaaaata !!...  ...  Positive\n",
              "1   ¿A quién representa? Nadie, excepto su padre, ...  ...  Positive\n",
              "2   No olvide que es hija del excongresista Fujimo...  ...  Positive\n",
              "3   La congresista Roselli Amuruz solo representa ...  ...  Negative\n",
              "4   Qué razón tiene Héctor Béjar cuando habla de l...  ...  Positive\n",
              "5   En un país como el nuestro, sería tremendament...  ...  Positive\n",
              "6   Alex Kouri, el mayor político criminal y corru...  ...  Negative\n",
              "7   Totalmente irresponsable, en un país como el n...  ...  Negative\n",
              "8   Jóvenes, si van a seguir creyendo este tipo de...  ...  Negative\n",
              "9   ¿Qué se puede decir del periodismo que se suma...  ...  Positive\n",
              "10  Quieren volver otra vez para robar al gobierno...  ...  Negative\n",
              "11  ¿Qué están haciendo en el Congreso los dos exm...  ...  Positive\n",
              "12  No es posible que el Perú esté a punto de ser ...  ...  Negative\n",
              "13  Todavía es sospechoso que la prensa promueva a...  ...  Negative\n",
              "14  No contentos con destruir el país en los 90 co...  ...  Positive\n",
              "15  Mucha gente en twitter prefiere vivir en la ig...  ...  Positive\n",
              "16  La historia no se puede reescribir, fujitrolle...  ...  Positive\n",
              "\n",
              "[17 rows x 4 columns]"
            ]
          },
          "metadata": {},
          "execution_count": 176
        }
      ]
    },
    {
      "cell_type": "code",
      "metadata": {
        "colab": {
          "base_uri": "https://localhost:8080/"
        },
        "id": "kPh3LdZ-tXEu",
        "outputId": "14642c32-0fd1-4d3f-bd20-449bcd4a5822"
      },
      "source": [
        "j=1\n",
        "sortedDF = df.sort_values(by=['Polarity'])\n",
        "for i in range(0, sortedDF.shape[0]):\n",
        "  if(sortedDF['Analysis'][i] == 'Positive'):\n",
        "    print(str(j) + ') ' + sortedDF['Tweets'][i])\n",
        "    print()\n",
        "    j += 1"
      ],
      "execution_count": null,
      "outputs": [
        {
          "output_type": "stream",
          "text": [
            "1) \"Jorge del Castillo, ladrón, rata, raaaaata !!!!!!\" Tremenda bienvenida del digno pueblo de Arequipa.\n",
            "\n",
            "2) ¿A quién representa? Nadie, excepto su padre, el excongresista de Fujimori, magnate de la educación, dueño del IDAT y la Univ. UTP. Currículum lamentable, cero experiencia política, mucho dinero.\n",
            "\n",
            "3) No olvide que es hija del excongresista Fujimorista Amuruz, magnate de la educación, dueño del IDAT y de la universidad UTP. La cumpleañera no representa a nadie, solo a su bolsillo.\n",
            "\n",
            "4) Qué razón tiene Héctor Béjar cuando habla de la derecha, por ejemplo respecto a los ataques: \"viniendo de quien viene y teniendo en cuenta el tipo de ataques que me han lanzado, supongo que eso contribuye a mi prestigio\".\n",
            "\n",
            "5) En un país como el nuestro, sería tremendamente irresponsable acelerar el regreso, sin haber logrado una mínima vacunación de la población. Con un lamentable sistema sanitario. Por Covid19\n",
            "\n",
            "6) ¿Qué se puede decir del periodismo que se suma a la carga de exmilitares que se arrodillaron ante los más grandes narcotraficantes de los 90, Fujimori y Montesinos? ¿Cómo deberíamos llamar a estos \"periodistas\"? ¿Solo mermeleros o NarcoMermeleros? donde tanto dinero?\n",
            "\n",
            "7) ¿Qué están haciendo en el Congreso los dos exmilitares, de alto rango, de la Armada y del Ejército? ¿Por qué son precisamente peones de partidos corruptos, corruptos como López Aliaga, Fuerza Popular, Acuña o Podemos?\n",
            "\n",
            "8) No contentos con destruir el país en los 90 con el criminal Montesinos, estos pseudo-militares, nuevamente atacan la Patria, Perú. ¿Qué están buscando realmente? ¿Quieres cumplir tu sueño de convertirte en NarcoEstado? No a los ex militares del crimen organizado\n",
            "\n",
            "9) Mucha gente en twitter prefiere vivir en la ignorancia. Aquí hay un ejemplo.\n",
            "\n",
            "10) La historia no se puede reescribir, fujitrolles. Pueden destrozar el arte popular, pero no la memoria de la gente.\n",
            "\n"
          ],
          "name": "stdout"
        }
      ]
    },
    {
      "cell_type": "code",
      "metadata": {
        "colab": {
          "base_uri": "https://localhost:8080/"
        },
        "id": "053ut_gyuENu",
        "outputId": "1f94e4d6-4dfb-4656-b0a3-c567c021b401"
      },
      "source": [
        "j=1\n",
        "sortedDF = df.sort_values(by=['Polarity'], ascending=False)\n",
        "for i in range(0, sortedDF.shape[0]):\n",
        "  if(sortedDF['Analysis'][i] == 'Negative'):\n",
        "    print(str(j) + ') ' + sortedDF['Tweets'][i])\n",
        "    print()\n",
        "    j += 1"
      ],
      "execution_count": null,
      "outputs": [
        {
          "output_type": "stream",
          "text": [
            "1) La congresista Roselli Amuruz solo representa los intereses de su padre, ex Fujimori y ahora magnate de la educación, dueño del IDAT y la Univ. UTP. En otras palabras, intereses personales. Por eso su currículum es lamentable, sin experiencia.\n",
            "\n",
            "2) Alex Kouri, el mayor político criminal y corrupto del Callao, regresa patrocinado por Willax y el exmarinero Luis Giampietri, jefes lame botas como Vladimiro Montesinos y Alan García. Se requiere una respuesta decidida contra esta turba malvada.\n",
            "\n",
            "3) Totalmente irresponsable, en un país como el nuestro, utilizar a los niños para la crítica política, sabiendo que el Sistema de Salud es deficiente. por Covid19.\n",
            "\n",
            "4) Jóvenes, si van a seguir creyendo este tipo de sujetos que se esconden detrás de la Marina, no duden que en unos años vivirán en un NarcoEstado. Estos son los seguidores de Montesinos, alguien que usó las fuerzas armadas y la humilló.\n",
            "\n",
            "5) Quieren volver otra vez para robar al gobierno, saquear el Perú, pero también quieren convertirnos en un narcoestado, un estado fallido. Muchos jóvenes ignorantes y confundidos son engañados por soldados que se arrodillaron ante los abogados de Montesinos o Narcos.\n",
            "\n",
            "6) No es posible que el Perú esté a punto de ser capturado nuevamente por personas corruptas que, protegidas por las filas militares, buscan alzarse como defensores de la democracia, cuando en realidad son servidores de la CORRCIÓN Y EL TRÁFICO DE DROGAS. ¡¡¡Cuidado con Perú !!!\n",
            "\n",
            "7) Todavía es sospechoso que la prensa promueva a estos tipos, que fueron servidores del mayor corrupto y narcotraficante de los 90, Vladimiro Montesinos. Quieren volver al poder, quieren terminar su labor criminal. ¡¡¡Desafío a estos desgraciados del Congreso !!!\n",
            "\n"
          ],
          "name": "stdout"
        }
      ]
    },
    {
      "cell_type": "code",
      "metadata": {
        "colab": {
          "base_uri": "https://localhost:8080/",
          "height": 441
        },
        "id": "64ZbsJoauVNu",
        "outputId": "a2ec5389-637a-4aac-b1db-b00b763eda82"
      },
      "source": [
        "plt.figure(figsize=(8,6))\n",
        "for i in range(0, df.shape[0]):\n",
        "  plt.scatter(df['Polarity'][i], df['Subjectivity'][i], color='blue')\n",
        "\n",
        "plt.title('Analisis de sentimientos')\n",
        "plt.xlabel('polarity')\n",
        "plt.ylabel('subjectivity')\n",
        "plt.show()"
      ],
      "execution_count": null,
      "outputs": [
        {
          "output_type": "display_data",
          "data": {
            "image/png": "[encoded data removed]",
            "text/plain": [
              "<Figure size 576x432 with 1 Axes>"
            ]
          },
          "metadata": {}
        }
      ]
    },
    {
      "cell_type": "code",
      "metadata": {
        "colab": {
          "base_uri": "https://localhost:8080/"
        },
        "id": "Vm-uAvvzu8d1",
        "outputId": "8629f866-7d37-4e97-b0d1-344ed54220f2"
      },
      "source": [
        "ptweet = df[df.Analysis == 'Positive']\n",
        "pteet = ptweet['Tweets']\n",
        "\n",
        "round(ptweet.shape[0] / df.shape[0] * 100, 1)"
      ],
      "execution_count": null,
      "outputs": [
        {
          "output_type": "execute_result",
          "data": {
            "text/plain": [
              "58.8"
            ]
          },
          "metadata": {},
          "execution_count": 180
        }
      ]
    },
    {
      "cell_type": "code",
      "metadata": {
        "colab": {
          "base_uri": "https://localhost:8080/"
        },
        "id": "IVZ3mUSrvWAf",
        "outputId": "fda1f6a1-4e5f-410b-8d69-10463a9b3d6f"
      },
      "source": [
        "ntweet = df[df.Analysis == 'Negative']\n",
        "nteet = ntweet['Tweets']\n",
        "\n",
        "round(ntweet.shape[0] / df.shape[0] * 100, 1)"
      ],
      "execution_count": null,
      "outputs": [
        {
          "output_type": "execute_result",
          "data": {
            "text/plain": [
              "41.2"
            ]
          },
          "metadata": {},
          "execution_count": 181
        }
      ]
    },
    {
      "cell_type": "code",
      "metadata": {
        "colab": {
          "base_uri": "https://localhost:8080/",
          "height": 374
        },
        "id": "2DDpv9Qnvonu",
        "outputId": "4b19c24a-ee01-4e4c-bcde-149a5974e5d2"
      },
      "source": [
        "df['Analysis'].value_counts()\n",
        "\n",
        "plt.title('Sentiment Analysis')\n",
        "plt.xlabel('Sentiment')\n",
        "plt.ylabel('Counts')\n",
        "df['Analysis'].value_counts().plot(kind='bar')\n",
        "plt.show()"
      ],
      "execution_count": null,
      "outputs": [
        {
          "output_type": "display_data",
          "data": {
            "image/png": "[encoded data removed]",
            "text/plain": [
              "<Figure size 432x288 with 1 Axes>"
            ]
          },
          "metadata": {}
        }
      ]
    }
  ]
}